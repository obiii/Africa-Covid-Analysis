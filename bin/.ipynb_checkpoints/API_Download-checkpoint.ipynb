{
 "cells": [
  {
   "cell_type": "code",
   "execution_count": 69,
   "metadata": {},
   "outputs": [
    {
     "name": "stdout",
     "output_type": "stream",
     "text": [
      "404 - Not Found\n"
     ]
    }
   ],
   "source": [
    "!kaggle datasets download -d anandhuh/covid-in-african-countries-latest-data"
   ]
  },
  {
   "cell_type": "code",
   "execution_count": 13,
   "metadata": {},
   "outputs": [],
   "source": [
    "var = None\n",
    "with zipfile.ZipFile(\"data/covid-in-african-countries-latest-data.zip\", 'r') as zip_ref:\n",
    "    zip_ref.extractall(\"data/\")\n"
   ]
  },
  {
   "cell_type": "code",
   "execution_count": 65,
   "metadata": {},
   "outputs": [
    {
     "name": "stdout",
     "output_type": "stream",
     "text": [
      "Collecting zipfile36\n",
      "  Downloading zipfile36-0.1.3-py3-none-any.whl (20 kB)\n",
      "Installing collected packages: zipfile36\n",
      "Successfully installed zipfile36-0.1.3\n"
     ]
    }
   ],
   "source": [
    "! pip install zipfile36"
   ]
  },
  {
   "cell_type": "code",
   "execution_count": 66,
   "metadata": {},
   "outputs": [],
   "source": [
    "import kaggle\n",
    "import zipfile36\n",
    "from google.cloud import bigquery\n",
    "from google.cloud import storage\n",
    "import os"
   ]
  },
  {
   "cell_type": "code",
   "execution_count": null,
   "metadata": {},
   "outputs": [],
   "source": [
    "\n",
    "from google.oauth2 import service_account\n",
    "\n",
    "gcp_json_credentials_dict = json.loads(gcp_credentials_string)\n",
    "credentials = service_account.Credentials.from_service_account_info(gcp_json_credentials_dict)\n",
    "client = storage.Client(project=gcp_json_credentials_dict['project_id'], credentials=credentials)"
   ]
  },
  {
   "cell_type": "code",
   "execution_count": 54,
   "metadata": {},
   "outputs": [],
   "source": [
    "\n",
    "project_id = 'covid-africa-analysis'\n",
    "dataset_id = 'covidAfrica'\n",
    "table_name = 'stg_covidAfrica'\n",
    "file_name = 'covid_africa'\n",
    "\n",
    "table_id = project_id+\".\"+dataset_id+\".\"+table_name\n",
    "\n",
    "os.environ[\"GOOGLE_APPLICATION_CREDENTIALS\"]=\"C:/Users/obaid/Downloads/covid-africa-analysis-e94858a302a7.json\""
   ]
  },
  {
   "cell_type": "code",
   "execution_count": 55,
   "metadata": {},
   "outputs": [],
   "source": [
    "from google.cloud import bigquery\n",
    "from google.cloud.exceptions import NotFound"
   ]
  },
  {
   "cell_type": "code",
   "execution_count": 56,
   "metadata": {},
   "outputs": [],
   "source": [
    "storage_client = storage.Client(project_id)\n",
    "client  = bigquery.Client(project=project_id)"
   ]
  },
  {
   "cell_type": "code",
   "execution_count": 57,
   "metadata": {},
   "outputs": [],
   "source": [
    "def execute_ingestionLoadJob(table_id):\n",
    "    table_check = doesTableExist(table_id)\n",
    "    if (table_check == False):\n",
    "        createTable(table_id)\n",
    "        job_config = setupLoadJobConfig()\n",
    "        return f'Function Execution Completed'\n",
    "    else:\n",
    "        print('Table already exists.')"
   ]
  },
  {
   "cell_type": "code",
   "execution_count": 58,
   "metadata": {},
   "outputs": [],
   "source": [
    "def setupLoadJobConfig():\n",
    "    job_config = bigquery.LoadJobConfig()\n",
    "    job_config.autodetect = True\n",
    "    job_config.skip_leading_rows=1\n",
    "    # The source format defaults to CSV, so the line below is optional.\n",
    "    job_config.source_format=bigquery.SourceFormat.CSV\n",
    "    return job_config\n",
    "\n",
    "job_config = setupLoadJobConfig()"
   ]
  },
  {
   "cell_type": "code",
   "execution_count": 61,
   "metadata": {},
   "outputs": [],
   "source": [
    "# A function to check whether a table exists.\n",
    "def doesTableExist(table_id):\n",
    "    try:\n",
    "        client.get_table(table_id)\n",
    "        return True\n",
    "    except NotFound:\n",
    "        return False\n"
   ]
  },
  {
   "cell_type": "code",
   "execution_count": 62,
   "metadata": {},
   "outputs": [],
   "source": [
    "def createTable(table_id):\n",
    "    try:\n",
    "        table = bigquery.Table(table_id)\n",
    "\n",
    "        #uri = \"gs://cloud-samples-data/bigquery/us-states/us-states.csv\"\n",
    "        uri = \"gs://covid_africa/covid_africa.csv\"\n",
    "        load_job = client.load_table_from_uri(\n",
    "            uri, table_id, job_config=job_config\n",
    "        )  # Make an API request.\n",
    "\n",
    "        load_job.result()  # Waits for the job to complete.\n",
    "\n",
    "        destination_table = client.get_table(table_id)  # Make an API request.\n",
    "        print(\"Loaded {} rows.\".format(destination_table.num_rows))\n",
    "\n",
    "        print(\"Created table\")\n",
    "    except Exception as e:\n",
    "        print(\"Could not create partition table due to \" + str(e))\n",
    "        raise"
   ]
  },
  {
   "cell_type": "code",
   "execution_count": 63,
   "metadata": {},
   "outputs": [
    {
     "name": "stdout",
     "output_type": "stream",
     "text": [
      "Loaded 54 rows.\n",
      "Created table\n"
     ]
    },
    {
     "data": {
      "text/plain": [
       "'Function Execution Completed'"
      ]
     },
     "execution_count": 63,
     "metadata": {},
     "output_type": "execute_result"
    }
   ],
   "source": [
    "execute_ingestionLoadJob(table_id)"
   ]
  },
  {
   "cell_type": "code",
   "execution_count": null,
   "metadata": {},
   "outputs": [],
   "source": []
  }
 ],
 "metadata": {
  "kernelspec": {
   "display_name": "Python 3",
   "language": "python",
   "name": "python3"
  },
  "language_info": {
   "codemirror_mode": {
    "name": "ipython",
    "version": 3
   },
   "file_extension": ".py",
   "mimetype": "text/x-python",
   "name": "python",
   "nbconvert_exporter": "python",
   "pygments_lexer": "ipython3",
   "version": "3.8.5"
  }
 },
 "nbformat": 4,
 "nbformat_minor": 4
}
